{
 "cells": [
  {
   "cell_type": "markdown",
   "source": [
    "# Calculations"
   ],
   "metadata": {}
  },
  {
   "cell_type": "markdown",
   "source": [
    "---"
   ],
   "metadata": {}
  },
  {
   "cell_type": "markdown",
   "source": [
    "## Short Circuit [Code](https://github.com/FlorianShepherd/pandapower-youtube/blob/master/scripts/short_circuit.py)\r\n",
    "\r\n",
    "<a href=\"http://www.youtube.com/watch?feature=player_embedded&v=66SSDhSNV7k\" target=\"_blank\">\r\n",
    "    <img \r\n",
    "        src=\"http://img.youtube.com/vi/66SSDhSNV7k/0.jpg\" \r\n",
    "        alt=\"Easy plotting Youtube Video\" width=\"240\" height=\"180\" border=\"10\" \r\n",
    "    />\r\n",
    "</a>"
   ],
   "metadata": {}
  },
  {
   "cell_type": "markdown",
   "source": [
    "> Watch video to understand short circuit in detail"
   ],
   "metadata": {}
  },
  {
   "cell_type": "code",
   "execution_count": 9,
   "source": [
    "import pandapower as pp\r\n",
    "import pandapower.shortcircuit as sc\r\n",
    "\r\n",
    "def ring_network():\r\n",
    "    net = pp.create_empty_network()\r\n",
    "    b1 = pp.create_bus(net, 220)\r\n",
    "    b2 = pp.create_bus(net, 110)\r\n",
    "    b3 = pp.create_bus(net, 110)\r\n",
    "    b4 = pp.create_bus(net, 110)\r\n",
    "\r\n",
    "    pp.create_ext_grid(net, b1, s_sc_max_mva=100., s_sc_min_mva=80., rx_min=0.20, rx_max=0.35)\r\n",
    "\r\n",
    "    pp.create_transformer(net, b1, b2, \"100 MVA 220/110 kV\")\r\n",
    "    pp.create_line(net, b2, b3, std_type=\"N2XS(FL)2Y 1x120 RM/35 64/110 kV\", length_km=15.)\r\n",
    "    l2 = pp.create_line(net, b3, b4, std_type=\"N2XS(FL)2Y 1x120 RM/35 64/110 kV\", length_km=12.)\r\n",
    "    pp.create_line(net, b4, b2, std_type=\"N2XS(FL)2Y 1x120 RM/35 64/110 kV\", length_km=10.)\r\n",
    "    pp.create_switch(net, b4, l2, closed=False, et=\"l\")\r\n",
    "    return net\r\n",
    "\r\n",
    "net = ring_network()\r\n",
    "sc.calc_sc(net)\r\n",
    "print(net.res_bus_sc)"
   ],
   "outputs": [
    {
     "output_type": "stream",
     "name": "stdout",
     "text": [
      "    ikss_ka     skss_mw      rk_ohm      xk_ohm\n",
      "0  0.262432  100.000000  175.878566  502.510189\n",
      "1  0.476454   90.776637   44.276323  139.778739\n",
      "2  0.466671   88.912758   46.571323  142.268739\n",
      "3  0.469892   89.526397   45.806323  141.438739\n"
     ]
    }
   ],
   "metadata": {}
  },
  {
   "cell_type": "code",
   "execution_count": 6,
   "source": [
    "# To calculate \"thermal current\"\r\n",
    "# For thermal current, we have to set time tk_s, which is by default 2 and if we increase it, \r\n",
    "# thermal current will be higher\r\n",
    "sc.calc_sc(net, ith=True, tk_s=2.)\r\n",
    "print(net.res_bus_sc)"
   ],
   "outputs": [
    {
     "output_type": "stream",
     "name": "stdout",
     "text": [
      "    ikss_ka     skss_mw    ith_ka      rk_ohm      xk_ohm\n",
      "0  0.262432  100.000000  0.263078  175.878566  502.510189\n",
      "1  0.476454   90.776637  0.477748   44.276323  139.778739\n",
      "2  0.466671   88.912758  0.467898   46.571323  142.268739\n",
      "3  0.469892   89.526397  0.471141   45.806323  141.438739\n"
     ]
    }
   ],
   "metadata": {}
  },
  {
   "cell_type": "code",
   "execution_count": 7,
   "source": [
    "# To calculate \"peak current\"\r\n",
    "sc.calc_sc(net, ip=True)\r\n",
    "print(net.res_bus_sc)"
   ],
   "outputs": [
    {
     "output_type": "stream",
     "name": "stdout",
     "text": [
      "    ikss_ka     skss_mw     ip_ka      rk_ohm      xk_ohm\n",
      "0  0.262432  100.000000  0.505834  175.878566  502.510189\n",
      "1  0.476454   90.776637  0.942589   44.276323  139.778739\n",
      "2  0.466671   88.912758  0.915418   46.571323  142.268739\n",
      "3  0.469892   89.526397  0.924301   45.806323  141.438739\n"
     ]
    }
   ],
   "metadata": {}
  },
  {
   "cell_type": "code",
   "execution_count": 9,
   "source": [
    "# To get results for lines\r\n",
    "sc.calc_sc(net, branch_results=True)\r\n",
    "print(net.res_line_sc)"
   ],
   "outputs": [
    {
     "output_type": "stream",
     "name": "stderr",
     "text": [
      "Branch results are in beta mode and might not always be reliable, especially for transformers\n"
     ]
    },
    {
     "output_type": "stream",
     "name": "stdout",
     "text": [
      "    ikss_ka\n",
      "0  0.466671\n",
      "1  0.000000\n",
      "2  0.469892\n"
     ]
    }
   ],
   "metadata": {}
  },
  {
   "cell_type": "markdown",
   "source": [
    "The above one is `Ring Network` but if we close the switches, we get `Meshed Network` and the calculation changes a little bit and now you will have automatic topology detection"
   ],
   "metadata": {}
  },
  {
   "cell_type": "code",
   "execution_count": 13,
   "source": [
    "# If we close all switches in the network, topology changes to mesh grid and automatically detected\r\n",
    "net = ring_network()\r\n",
    "net.switch.loc[:, \"closed\"] = True\r\n",
    "sc.calc_sc(net, ith=True, ip=True, tk_s=2., branch_results=True, topology=\"auto\")\r\n",
    "print(net.res_bus_sc)\r\n",
    "print(net.res_line_sc)"
   ],
   "outputs": [
    {
     "output_type": "stream",
     "name": "stderr",
     "text": [
      "Branch results are in beta mode and might not always be reliable, especially for transformers\n"
     ]
    },
    {
     "output_type": "stream",
     "name": "stdout",
     "text": [
      "    ikss_ka     skss_mw     ip_ka    ith_ka      rk_ohm      xk_ohm\n",
      "0  0.262432  100.000000  0.505834  0.263078  175.878566  502.510189\n",
      "1  0.476454   90.776637  0.942589  0.477748   44.276323  139.778739\n",
      "2  0.470593   89.660073  0.926244  0.471847   45.640917  141.259279\n",
      "3  0.471649   89.861256  0.929174  0.472910   45.392809  140.990090\n",
      "    ikss_ka     ip_ka    ith_ka\n",
      "0  0.279812  0.550740  0.280558\n",
      "1  0.190781  0.375504  0.191289\n",
      "2  0.344176  0.678046  0.345097\n"
     ]
    }
   ],
   "metadata": {}
  },
  {
   "cell_type": "markdown",
   "source": [
    "---"
   ],
   "metadata": {}
  },
  {
   "cell_type": "markdown",
   "source": [
    "## State Estimation [Code](https://github.com/FlorianShepherd/pandapower-youtube/blob/master/scripts/simple_state_estimation.py)\r\n",
    "\r\n",
    "<a href=\"http://www.youtube.com/watch?feature=player_embedded&v=p8re_RzmlbU\" target=\"_blank\">\r\n",
    "    <img \r\n",
    "        src=\"http://img.youtube.com/vi/p8re_RzmlbU/0.jpg\" \r\n",
    "        alt=\"Easy plotting Youtube Video\" width=\"240\" height=\"180\" border=\"10\" \r\n",
    "    />\r\n",
    "</a>"
   ],
   "metadata": {}
  },
  {
   "cell_type": "code",
   "execution_count": null,
   "source": [],
   "outputs": [],
   "metadata": {}
  },
  {
   "cell_type": "markdown",
   "source": [
    "> Want to know voltage at each bus in the system, __definitely watch video__"
   ],
   "metadata": {}
  },
  {
   "cell_type": "code",
   "execution_count": 14,
   "source": [
    "import pandapower.estimation as est\r\n",
    "import pandapower as pp\r\n",
    "\r\n",
    "net = pp.create_empty_network()\r\n",
    "\r\n",
    "b1 = pp.create_bus(net, name=\"bus 1\", vn_kv=1., index=1)\r\n",
    "b2 = pp.create_bus(net, name=\"bus 2\", vn_kv=1., index=2)\r\n",
    "b3 = pp.create_bus(net, name=\"bus 3\", vn_kv=1., index=3)\r\n",
    "\r\n",
    "pp.create_ext_grid(net, b1)  # set the slack bus to bus 1\r\n",
    "\r\n",
    "l1 = pp.create_line_from_parameters(net, 1, 2, 1, r_ohm_per_km=.01, x_ohm_per_km=.03, \r\n",
    "                                    c_nf_per_km=0, max_i_ka=1)\r\n",
    "l2 = pp.create_line_from_parameters(net, 1, 3, 1, r_ohm_per_km=.02, x_ohm_per_km=.05, \r\n",
    "                                    c_nf_per_km=0, max_i_ka=1)\r\n",
    "l3 = pp.create_line_from_parameters(net, 2, 3, 1, r_ohm_per_km=.03, x_ohm_per_km=.08, \r\n",
    "                                    c_nf_per_km=0, max_i_ka=1)\r\n",
    "\r\n",
    "# Measure bus voltages\r\n",
    "# params network, measurement of type voltage, for a bus, with this measurement value from device, \r\n",
    "# error of measuring device, for bus 1\r\n",
    "pp.create_measurement(net, \"v\", \"bus\", 1.006, 0.004, b1)\r\n",
    "pp.create_measurement(net, \"v\", \"bus\", .968, 0.004, b2)\r\n",
    "\r\n",
    "# measure bus p(MW), q(MVar)\r\n",
    "# error in kV, kVar\r\n",
    "pp.create_measurement(net, \"p\", \"bus\", -0.501, 10., b2)\r\n",
    "pp.create_measurement(net, \"q\", \"bus\", -.266, 10., b2)\r\n",
    "\r\n",
    "# line measurements\r\n",
    "pp.create_measurement(net, \"p\", \"line\", 0.888, 8., l1, side=1)\r\n",
    "pp.create_measurement(net, \"p\", \"line\", 1.173, 8., l2, side=1)\r\n",
    "pp.create_measurement(net, \"q\", \"line\", 0.568, 8., l1, side=1)\r\n",
    "pp.create_measurement(net, \"q\", \"line\", 0.663, 8., l2, side=1)"
   ],
   "outputs": [
    {
     "output_type": "execute_result",
     "data": {
      "text/plain": [
       "7"
      ]
     },
     "metadata": {},
     "execution_count": 14
    }
   ],
   "metadata": {}
  },
  {
   "cell_type": "code",
   "execution_count": 15,
   "source": [
    "# We have 4 bus measurements and 4 line measurements\r\n",
    "# Now, we can perform state estimation\r\n",
    "est.estimate(net)"
   ],
   "outputs": [
    {
     "output_type": "execute_result",
     "data": {
      "text/plain": [
       "True"
      ]
     },
     "metadata": {},
     "execution_count": 15
    }
   ],
   "metadata": {}
  },
  {
   "cell_type": "code",
   "execution_count": 16,
   "source": [
    "# Estimated value for each bus in system\r\n",
    "print(net.res_bus_est)"
   ],
   "outputs": [
    {
     "output_type": "stream",
     "name": "stdout",
     "text": [
      "      vm_pu  va_degree      p_mw    q_mvar\n",
      "1  1.005989   0.000000 -2.184483 -2.058855\n",
      "2  0.968011  -0.724121  0.158678  0.694332\n",
      "3  0.927532  -3.130342  1.934930  1.127138\n"
     ]
    }
   ],
   "metadata": {}
  },
  {
   "cell_type": "code",
   "execution_count": 17,
   "source": [
    "# Estimated line measurements\r\n",
    "print(net.res_line_est)"
   ],
   "outputs": [
    {
     "output_type": "stream",
     "name": "stdout",
     "text": [
      "   p_from_mw  q_from_mvar   p_to_mw  q_to_mvar     pl_mw   ql_mvar  i_from_ka  \\\n",
      "0   0.752046     1.025443 -0.736067  -0.977505  0.015979  0.047937   0.729819   \n",
      "1   1.432437     1.033412 -1.370782  -0.879273  0.061656  0.154139   1.013703   \n",
      "2   0.577388     0.283173 -0.564148  -0.247865  0.013240  0.035308   0.383558   \n",
      "\n",
      "    i_to_ka      i_ka  vm_from_pu  va_from_degree  vm_to_pu  va_to_degree  \\\n",
      "0  0.729819  0.729819    1.005989        0.000000  0.968011     -0.724121   \n",
      "1  1.013703  1.013703    1.005989        0.000000  0.927532     -3.130342   \n",
      "2  0.383558  0.383558    0.968011       -0.724121  0.927532     -3.130342   \n",
      "\n",
      "   loading_percent  \n",
      "0        72.981922  \n",
      "1       101.370306  \n",
      "2        38.355775  \n"
     ]
    }
   ],
   "metadata": {}
  },
  {
   "cell_type": "markdown",
   "source": [
    "---"
   ],
   "metadata": {}
  },
  {
   "cell_type": "markdown",
   "source": [
    "## Optimal Power Flow [Code](https://github.com/FlorianShepherd/pandapower-youtube/blob/master/scripts/simple_opf.py)\r\n",
    "\r\n",
    "<a href=\"http://www.youtube.com/watch?feature=player_embedded&v=-NZHOlRYuzM\" target=\"_blank\">\r\n",
    "    <img \r\n",
    "        src=\"http://img.youtube.com/vi/-NZHOlRYuzM/0.jpg\" \r\n",
    "        alt=\"Easy plotting Youtube Video\" width=\"240\" height=\"180\" border=\"10\" \r\n",
    "    />\r\n",
    "</a>"
   ],
   "metadata": {}
  },
  {
   "cell_type": "code",
   "execution_count": 26,
   "source": [
    "import pandapower as pp\r\n",
    "\r\n",
    "net = pp.create_empty_network()\r\n",
    "\r\n",
    "min_vm_pu = .95  # Minimum bus voltage\r\n",
    "max_vm_pu = 1.05  # Maximum bus voltage\r\n",
    "\r\n",
    "# create buses\r\n",
    "bus1 = pp.create_bus(net, vn_kv=110., min_vm_pu=min_vm_pu, max_vm_pu=max_vm_pu)\r\n",
    "bus2 = pp.create_bus(net, vn_kv=110., min_vm_pu=min_vm_pu, max_vm_pu=max_vm_pu)\r\n",
    "bus3 = pp.create_bus(net, vn_kv=110., min_vm_pu=min_vm_pu, max_vm_pu=max_vm_pu)\r\n",
    "\r\n",
    "# create 110 kV lines\r\n",
    "l1 = pp.create_line(net, bus1, bus2, length_km=1., std_type='149-AL1/24-ST1A 110.0')\r\n",
    "l2 = pp.create_line(net, bus2, bus3, length_km=1., std_type='149-AL1/24-ST1A 110.0')\r\n",
    "l3 = pp.create_line(net, bus3, bus1, length_km=1., std_type='149-AL1/24-ST1A 110.0')\r\n",
    "\r\n",
    "# create loads\r\n",
    "pp.create_load(net, bus3, p_mw=300)\r\n",
    "\r\n",
    "# create generators\r\n",
    "# p_mw is neglected while calculating optimal power flow, min_vm_pu matters\r\n",
    "g1 = pp.create_gen(net, bus1, p_mw=200, min_vm_pu=300, controllable=True, slack=True)\r\n",
    "g2 = pp.create_gen(net, bus2, p_mw=0, min_vm_pu=0, controllable=True)\r\n",
    "g3 = pp.create_gen(net, bus3, p_mw=0, min_p_mw=0, max_p_mw=300, controllable=True)"
   ],
   "outputs": [],
   "metadata": {}
  },
  {
   "cell_type": "code",
   "execution_count": 31,
   "source": [
    "# create cost functions for the generators\r\n",
    "pp.create_poly_cost(net, element=g1, et=\"gen\", cp1_eur_per_mw=30)\r\n",
    "pp.create_poly_cost(net, element=g2, et=\"gen\", cp1_eur_per_mw=30)\r\n",
    "pp.create_poly_cost(net, element=g3, et=\"gen\", cp1_eur_per_mw=29.999)\r\n",
    "\r\n",
    "# run optimal power flow calculation\r\n",
    "pp.runopp(net)\r\n",
    "print(net.res_gen)"
   ],
   "outputs": [
    {
     "output_type": "stream",
     "name": "stdout",
     "text": [
      "         p_mw    q_mvar     va_degree     vm_pu\n",
      "0    0.029747 -0.032991  0.000000e+00  0.995924\n",
      "1    0.029747 -0.032991  4.490908e-15  0.995924\n",
      "2  299.940505 -0.032992 -5.840540e-05  0.995923\n"
     ]
    }
   ],
   "metadata": {}
  },
  {
   "cell_type": "markdown",
   "source": [
    "---"
   ],
   "metadata": {}
  }
 ],
 "metadata": {
  "interpreter": {
   "hash": "f9525bb2c7787f33b1425ed45de2f882d9d84bb3f853826084c6bae329d573d5"
  },
  "kernelspec": {
   "name": "python3",
   "display_name": "Python 3.8.8 64-bit ('venv': venv)"
  },
  "language_info": {
   "codemirror_mode": {
    "name": "ipython",
    "version": 3
   },
   "file_extension": ".py",
   "mimetype": "text/x-python",
   "name": "python",
   "nbconvert_exporter": "python",
   "pygments_lexer": "ipython3",
   "version": "3.8.8"
  }
 },
 "nbformat": 4,
 "nbformat_minor": 4
}