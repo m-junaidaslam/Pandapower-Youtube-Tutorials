{
 "cells": [
  {
   "cell_type": "markdown",
   "metadata": {},
   "source": [
    "# Machine Learning"
   ]
  },
  {
   "cell_type": "markdown",
   "metadata": {},
   "source": [
    "---"
   ]
  },
  {
   "cell_type": "markdown",
   "metadata": {},
   "source": [
    "## Simbench Data [Code](https://github.com/FlorianShepherd/pandapower-youtube/blob/master/scripts/machine_learning_tutorial/0_simbench_ts.py) | [Documentation](https://github.com/e2nIEE/simbench/blob/master/tutorials/simbench_grids_basics_and_usage.ipynb)\n",
    "\n",
    "<a href=\"http://www.youtube.com/watch?feature=player_embedded&v=kHbAMoCv-d4\" target=\"_blank\">\n",
    "    <img \n",
    "        src=\"http://img.youtube.com/vi/kHbAMoCv-d4/0.jpg\" \n",
    "        alt=\"Easy plotting Youtube Video\" width=\"240\" height=\"180\" border=\"10\" \n",
    "    />\n",
    "</a>"
   ]
  },
  {
   "cell_type": "code",
   "execution_count": 1,
   "metadata": {},
   "outputs": [
    {
     "name": "stderr",
     "output_type": "stream",
     "text": [
      "C:\\Users\\junai\\anaconda3\\envs\\PandaPower\\lib\\site-packages\\simbench\\converter\\csv_pp_converter.py:390: FutureWarning: Index.__or__ operating as a set operation is deprecated, in the future this will be a logical operation matching Series.__or__.  Use index.union(other) instead\n",
      "  idx_bus = data[\"Measurement\"].index.difference(idx_line | idx_trafo).astype(int)\n",
      "C:\\Users\\junai\\anaconda3\\envs\\PandaPower\\lib\\site-packages\\simbench\\converter\\csv_pp_converter.py:468: FutureWarning: Index.__or__ operating as a set operation is deprecated, in the future this will be a logical operation matching Series.__or__.  Use index.union(other) instead\n",
      "  missing = csv_data[\"Line\"].index.difference(idx_lines | idx_dclines)\n",
      "C:\\Users\\junai\\anaconda3\\envs\\PandaPower\\lib\\site-packages\\simbench\\converter\\csv_pp_converter.py:472: FutureWarning: Index.__and__ operating as a set operation is deprecated, in the future this will be a logical operation matching Series.__and__.  Use index.intersection(other) instead\n",
      "  if len(idx_lines & idx_dclines):\n",
      "C:\\Users\\junai\\anaconda3\\envs\\PandaPower\\lib\\site-packages\\simbench\\converter\\csv_pp_converter.py:829: FutureWarning: Index.__or__ operating as a set operation is deprecated, in the future this will be a logical operation matching Series.__or__.  Use index.union(other) instead\n",
      "  columns=input_data[corr_str].columns | Type_col_except_std_type)\n"
     ]
    },
    {
     "name": "stdout",
     "output_type": "stream",
     "text": [
      "dict_keys([('load', 'p_mw'), ('load', 'q_mvar'), ('sgen', 'p_mw'), ('gen', 'p_mw'), ('storage', 'p_mw')])\n"
     ]
    }
   ],
   "source": [
    "import simbench as sb\n",
    "\n",
    "grid_code = \"1-HV-urban--0-sw\"\n",
    "net = sb.get_simbench_net(grid_code)\n",
    "profiles = sb.get_absolute_values(net, profiles_instead_of_study_cases=True)\n",
    "\n",
    "print(profiles.keys())"
   ]
  },
  {
   "cell_type": "code",
   "execution_count": 2,
   "metadata": {},
   "outputs": [
    {
     "name": "stdout",
     "output_type": "stream",
     "text": [
      "This pandapower network includes the following parameter tables:\n",
      "   - bus (372 elements)\n",
      "   - load (79 elements)\n",
      "   - sgen (98 elements)\n",
      "   - switch (498 elements)\n",
      "   - ext_grid (1 element)\n",
      "   - line (113 elements)\n",
      "   - trafo (3 elements)\n",
      "   - measurement (1122 elements)\n",
      "   - bus_geodata (372 elements)\n",
      "   - substation (14 elements)\n",
      "   - loadcases (6 elements)\n"
     ]
    }
   ],
   "source": [
    "print(net)"
   ]
  },
  {
   "cell_type": "code",
   "execution_count": 3,
   "metadata": {},
   "outputs": [
    {
     "name": "stdout",
     "output_type": "stream",
     "text": [
      "        0    1    2    3    4    5    6    7    8    9   ...        88  \\\n",
      "0      0.0  0.0  0.0  0.0  0.0  0.0  0.0  0.0  0.0  0.0  ...  7.521221   \n",
      "1      0.0  0.0  0.0  0.0  0.0  0.0  0.0  0.0  0.0  0.0  ...  7.508898   \n",
      "2      0.0  0.0  0.0  0.0  0.0  0.0  0.0  0.0  0.0  0.0  ...  7.496576   \n",
      "3      0.0  0.0  0.0  0.0  0.0  0.0  0.0  0.0  0.0  0.0  ...  7.484254   \n",
      "4      0.0  0.0  0.0  0.0  0.0  0.0  0.0  0.0  0.0  0.0  ...  7.471932   \n",
      "...    ...  ...  ...  ...  ...  ...  ...  ...  ...  ...  ...       ...   \n",
      "35131  0.0  0.0  0.0  0.0  0.0  0.0  0.0  0.0  0.0  0.0  ...  1.765590   \n",
      "35132  0.0  0.0  0.0  0.0  0.0  0.0  0.0  0.0  0.0  0.0  ...  0.000000   \n",
      "35133  0.0  0.0  0.0  0.0  0.0  0.0  0.0  0.0  0.0  0.0  ...  0.000000   \n",
      "35134  0.0  0.0  0.0  0.0  0.0  0.0  0.0  0.0  0.0  0.0  ...  0.000000   \n",
      "35135  0.0  0.0  0.0  0.0  0.0  0.0  0.0  0.0  0.0  0.0  ...  0.000000   \n",
      "\n",
      "             89         90         91        92        93         94  \\\n",
      "0      3.450101  10.126047  21.623509  3.018839  8.237117  38.335381   \n",
      "1      3.444449  10.109457  21.588083  3.013893  8.223621  38.133541   \n",
      "2      3.438796  10.092867  21.552656  3.008947  8.210126  37.931701   \n",
      "3      3.433144  10.076278  21.517230  3.004001  8.196631  37.729861   \n",
      "4      3.427492  10.059688  21.481803  2.999055  8.183136  37.528021   \n",
      "...         ...        ...        ...       ...       ...        ...   \n",
      "35131  0.809904   2.377067   5.076071  0.708666  1.933645  10.828114   \n",
      "35132  0.000000   0.000000   0.000000  0.000000  0.000000   0.000000   \n",
      "35133  0.000000   0.000000   0.000000  0.000000  0.000000   0.000000   \n",
      "35134  0.000000   0.000000   0.000000  0.000000  0.000000   0.000000   \n",
      "35135  0.000000   0.000000   0.000000  0.000000  0.000000   0.000000   \n",
      "\n",
      "             95         96         97  \n",
      "0      8.136523  27.768684  13.942401  \n",
      "1      8.093683  27.622479  13.868992  \n",
      "2      8.050843  27.476273  13.795584  \n",
      "3      8.008004  27.330068  13.722176  \n",
      "4      7.965164  27.183863  13.648767  \n",
      "...         ...        ...        ...  \n",
      "35131  2.298221   7.843471   3.938135  \n",
      "35132  0.000000   0.000000   0.000000  \n",
      "35133  0.000000   0.000000   0.000000  \n",
      "35134  0.000000   0.000000   0.000000  \n",
      "35135  0.000000   0.000000   0.000000  \n",
      "\n",
      "[35136 rows x 98 columns]\n"
     ]
    }
   ],
   "source": [
    "# To start time series calculations, we need profiles\n",
    "load_p = profiles[(\"load\", \"p_mw\")]\n",
    "load_q = profiles[(\"load\", \"q_mvar\")]\n",
    "sgen_p = profiles[(\"sgen\", \"p_mw\")]\n",
    "\n",
    "# columns are element indices and rows are timestamps\n",
    "print(sgen_p)"
   ]
  },
  {
   "cell_type": "code",
   "execution_count": 4,
   "metadata": {},
   "outputs": [
    {
     "data": {
      "image/png": "[encoded data removed]",
      "text/plain": [
       "<Figure size 432x288 with 1 Axes>"
      ]
     },
     "metadata": {
      "needs_background": "light"
     },
     "output_type": "display_data"
    }
   ],
   "source": [
    "import matplotlib.pyplot as plt\n",
    "load_p.sum(axis=1).plot(label=\"load\")\n",
    "sgen_p.sum(axis=1).plot(label=\"sgen\")\n",
    "plt.legend()\n",
    "plt.show()"
   ]
  },
  {
   "cell_type": "code",
   "execution_count": 5,
   "metadata": {},
   "outputs": [
    {
     "name": "stderr",
     "output_type": "stream",
     "text": [
      "No time steps to calculate are specified. I'll check the datasource of the first controller for avaiable time steps\n",
      "recycle is set to True, but internal variables are missing\n"
     ]
    },
    {
     "name": "stdout",
     "output_type": "stream",
     "text": [
      "Progress: |██████████████████████████████████████████████████| 100.0% Complete\n",
      "\n"
     ]
    }
   ],
   "source": [
    "# timeseries calculation\n",
    "import pandapower.timeseries as ts\n",
    "from pandapower.control.controller.const_control import ConstControl\n",
    "from pandapower.timeseries.data_sources.frame_data import DFData\n",
    "\n",
    "ds = DFData(sgen_p)\n",
    "ConstControl(net, \"sgen\", \"p_mw\", element_index=net.sgen.index, profile_name=sgen_p.columns, data_source=ds)\n",
    "\n",
    "ds = DFData(load_p)\n",
    "ConstControl(net, \"load\", \"p_mw\", element_index=net.load.index, profile_name=load_p.columns, data_source=ds)\n",
    "\n",
    "ds = DFData(load_q)\n",
    "ConstControl(net, \"load\", \"q_mvar\", element_index=net.load.index, profile_name=load_q.columns, data_source=ds)\n",
    "\n",
    "ts.OutputWriter(net, output_path=\"./machine_learning_data\", output_file_type=\".json\")\n",
    "ts.run_time_series.run_timeseries(net)"
   ]
  },
  {
   "cell_type": "markdown",
   "metadata": {},
   "source": [
    "---"
   ]
  },
  {
   "cell_type": "markdown",
   "metadata": {},
   "source": [
    "## Data Preprocessing [Code](https://github.com/FlorianShepherd/pandapower-youtube/blob/master/scripts/machine_learning_tutorial/1_ann_data.py) | [Documentation]()\n",
    "\n",
    "<a href=\"http://www.youtube.com/watch?feature=player_embedded&v=RBY03lV_gE4\" target=\"_blank\">\n",
    "    <img \n",
    "        src=\"http://img.youtube.com/vi/RBY03lV_gE4/0.jpg\" \n",
    "        alt=\"Easy plotting Youtube Video\" width=\"240\" height=\"180\" border=\"10\" \n",
    "    />\n",
    "</a>"
   ]
  },
  {
   "cell_type": "code",
   "execution_count": 6,
   "metadata": {},
   "outputs": [
    {
     "name": "stderr",
     "output_type": "stream",
     "text": [
      "C:\\Users\\junai\\anaconda3\\envs\\PandaPower\\lib\\site-packages\\simbench\\converter\\csv_pp_converter.py:390: FutureWarning: Index.__or__ operating as a set operation is deprecated, in the future this will be a logical operation matching Series.__or__.  Use index.union(other) instead\n",
      "  idx_bus = data[\"Measurement\"].index.difference(idx_line | idx_trafo).astype(int)\n",
      "C:\\Users\\junai\\anaconda3\\envs\\PandaPower\\lib\\site-packages\\simbench\\converter\\csv_pp_converter.py:468: FutureWarning: Index.__or__ operating as a set operation is deprecated, in the future this will be a logical operation matching Series.__or__.  Use index.union(other) instead\n",
      "  missing = csv_data[\"Line\"].index.difference(idx_lines | idx_dclines)\n",
      "C:\\Users\\junai\\anaconda3\\envs\\PandaPower\\lib\\site-packages\\simbench\\converter\\csv_pp_converter.py:472: FutureWarning: Index.__and__ operating as a set operation is deprecated, in the future this will be a logical operation matching Series.__and__.  Use index.intersection(other) instead\n",
      "  if len(idx_lines & idx_dclines):\n",
      "C:\\Users\\junai\\anaconda3\\envs\\PandaPower\\lib\\site-packages\\simbench\\converter\\csv_pp_converter.py:829: FutureWarning: Index.__or__ operating as a set operation is deprecated, in the future this will be a logical operation matching Series.__or__.  Use index.union(other) instead\n",
      "  columns=input_data[corr_str].columns | Type_col_except_std_type)\n"
     ]
    }
   ],
   "source": [
    "import simbench as sb\n",
    "\n",
    "grid_code = \"1-HV-urban--0-sw\"\n",
    "net = sb.get_simbench_net(grid_code)\n",
    "profiles = sb.get_absolute_values(net, profiles_instead_of_study_cases=True)\n",
    "\n",
    "sgen_p = profiles[(\"sgen\", \"p_mw\")]\n",
    "load_p = profiles[(\"load\", \"p_mw\")]\n",
    "load_q = profiles[(\"load\", \"q_mvar\")]"
   ]
  },
  {
   "cell_type": "code",
   "execution_count": 7,
   "metadata": {},
   "outputs": [],
   "source": [
    "import pandas as pd\n",
    "X = pd.concat([sgen_p, load_p, load_q], axis=1)\n",
    "y = pd.read_json(\"./machine_learning_data/res_line/loading_percent.json\")"
   ]
  },
  {
   "cell_type": "code",
   "execution_count": 9,
   "metadata": {},
   "outputs": [],
   "source": [
    "# Randomly split data for training and testing from the available test data\n",
    "from sklearn.model_selection import train_test_split\n",
    "# Use 10 percent of X and y for training\n",
    "X_train, X_test, y_train, y_test = train_test_split(X, y, train_size=0.1)"
   ]
  },
  {
   "cell_type": "code",
   "execution_count": 10,
   "metadata": {},
   "outputs": [],
   "source": [
    "# Scale data because neural network can learn better from scaled data\n",
    "from sklearn.preprocessing import StandardScaler\n",
    "scaler = StandardScaler()\n",
    "X_train = scaler.fit_transform(X_train)\n",
    "X_test = scaler.transform(X_test)"
   ]
  },
  {
   "cell_type": "code",
   "execution_count": 11,
   "metadata": {},
   "outputs": [
    {
     "name": "stdout",
     "output_type": "stream",
     "text": [
      "(35136, 256)\n",
      "(3513, 256)\n",
      "(31623, 256)\n"
     ]
    }
   ],
   "source": [
    "# Save splitted and scaled data using numpy\n",
    "import numpy as np\n",
    "np.save(\"./machine_learning_data/X_train.npy\", X_train)\n",
    "np.save(\"./machine_learning_data/X_test.npy\", X_test)\n",
    "np.save(\"./machine_learning_data/y_train.npy\", y_train)\n",
    "np.save(\"./machine_learning_data/y_test.npy\", y_test)\n",
    "\n",
    "print(X.shape)\n",
    "print(X_train.shape)\n",
    "print(X_test.shape)"
   ]
  },
  {
   "cell_type": "markdown",
   "metadata": {},
   "source": [
    "---"
   ]
  },
  {
   "cell_type": "markdown",
   "metadata": {},
   "source": [
    "## Training and Prediction [Code](https://github.com/FlorianShepherd/pandapower-youtube/blob/master/scripts/machine_learning_tutorial/2_ann_prediction.py) | [Documentation]()\n",
    "\n",
    "<a href=\"http://www.youtube.com/watch?feature=player_embedded&v=OSnW_AE1nFY\" target=\"_blank\">\n",
    "    <img \n",
    "        src=\"http://img.youtube.com/vi/OSnW_AE1nFY/0.jpg\" \n",
    "        alt=\"Easy plotting Youtube Video\" width=\"240\" height=\"180\" border=\"10\" \n",
    "    />\n",
    "</a>"
   ]
  },
  {
   "cell_type": "code",
   "execution_count": 12,
   "metadata": {},
   "outputs": [],
   "source": [
    "import numpy as np\n",
    "# sgen_p, load_p, load_q\n",
    "X_train = np.load(\"machine_learning_data/X_train.npy\")\n",
    "X_test = np.load(\"machine_learning_data/X_test.npy\")\n",
    "# line loading results\n",
    "y_train = np.load(\"machine_learning_data/y_train.npy\")\n",
    "y_test = np.load(\"machine_learning_data/y_test.npy\")"
   ]
  },
  {
   "cell_type": "code",
   "execution_count": 13,
   "metadata": {},
   "outputs": [],
   "source": [
    "from sklearn.preprocessing import StandardScaler\n",
    "scaler = StandardScaler()\n",
    "y_train = scaler.fit_transform(y_train)\n",
    "# x is already scaled"
   ]
  },
  {
   "cell_type": "code",
   "execution_count": 14,
   "metadata": {
    "scrolled": true
   },
   "outputs": [
    {
     "name": "stdout",
     "output_type": "stream",
     "text": [
      "Iteration 1, loss = 0.47172296\n",
      "Iteration 2, loss = 0.20995897\n",
      "Iteration 3, loss = 0.12248529\n",
      "Iteration 4, loss = 0.09536449\n",
      "Iteration 5, loss = 0.07996230\n",
      "Iteration 6, loss = 0.06940318\n",
      "Iteration 7, loss = 0.06180353\n",
      "Iteration 8, loss = 0.05544569\n",
      "Iteration 9, loss = 0.05107491\n",
      "Iteration 10, loss = 0.04589400\n",
      "Iteration 11, loss = 0.04194674\n",
      "Iteration 12, loss = 0.03861237\n",
      "Iteration 13, loss = 0.03531160\n",
      "Iteration 14, loss = 0.03267732\n",
      "Iteration 15, loss = 0.03034100\n",
      "Iteration 16, loss = 0.02821725\n",
      "Iteration 17, loss = 0.02611253\n",
      "Iteration 18, loss = 0.02381357\n",
      "Iteration 19, loss = 0.02221475\n",
      "Iteration 20, loss = 0.02092527\n",
      "Iteration 21, loss = 0.01972267\n",
      "Iteration 22, loss = 0.01842233\n",
      "Iteration 23, loss = 0.01728552\n",
      "Iteration 24, loss = 0.01657937\n",
      "Iteration 25, loss = 0.01697629\n",
      "Iteration 26, loss = 0.01591803\n",
      "Iteration 27, loss = 0.01445558\n",
      "Iteration 28, loss = 0.01373740\n",
      "Iteration 29, loss = 0.01316311\n",
      "Iteration 30, loss = 0.01322645\n",
      "Iteration 31, loss = 0.01248334\n",
      "Iteration 32, loss = 0.01204974\n",
      "Iteration 33, loss = 0.01158699\n",
      "Iteration 34, loss = 0.01136734\n",
      "Iteration 35, loss = 0.01093715\n",
      "Iteration 36, loss = 0.01074489\n",
      "Iteration 37, loss = 0.01040214\n",
      "Iteration 38, loss = 0.01026252\n",
      "Iteration 39, loss = 0.00991112\n",
      "Iteration 40, loss = 0.00994475\n",
      "Iteration 41, loss = 0.00976903\n",
      "Iteration 42, loss = 0.00968099\n",
      "Iteration 43, loss = 0.00919448\n",
      "Iteration 44, loss = 0.00933122\n",
      "Iteration 45, loss = 0.00891448\n",
      "Iteration 46, loss = 0.00906527\n",
      "Iteration 47, loss = 0.00921654\n",
      "Iteration 48, loss = 0.00868678\n",
      "Iteration 49, loss = 0.00861288\n",
      "Iteration 50, loss = 0.00799274\n",
      "Iteration 51, loss = 0.00901157\n",
      "Iteration 52, loss = 0.00796692\n",
      "Iteration 53, loss = 0.00802200\n",
      "Iteration 54, loss = 0.00830707\n",
      "Iteration 55, loss = 0.00755535\n",
      "Iteration 56, loss = 0.00706681\n",
      "Iteration 57, loss = 0.00684572\n",
      "Iteration 58, loss = 0.00662935\n",
      "Iteration 59, loss = 0.00662096\n",
      "Iteration 60, loss = 0.00660343\n",
      "Iteration 61, loss = 0.00656781\n",
      "Iteration 62, loss = 0.00652898\n",
      "Iteration 63, loss = 0.00641393\n",
      "Iteration 64, loss = 0.00625801\n",
      "Iteration 65, loss = 0.00602760\n",
      "Iteration 66, loss = 0.00592925\n",
      "Iteration 67, loss = 0.00582114\n",
      "Iteration 68, loss = 0.00568970\n",
      "Iteration 69, loss = 0.00565306\n",
      "Iteration 70, loss = 0.00555133\n",
      "Iteration 71, loss = 0.00520450\n",
      "Iteration 72, loss = 0.00524958\n",
      "Iteration 73, loss = 0.00522501\n",
      "Iteration 74, loss = 0.00517027\n",
      "Iteration 75, loss = 0.00500955\n",
      "Iteration 76, loss = 0.00476512\n",
      "Iteration 77, loss = 0.00470686\n",
      "Iteration 78, loss = 0.00467303\n",
      "Iteration 79, loss = 0.00462767\n",
      "Iteration 80, loss = 0.00455152\n",
      "Iteration 81, loss = 0.00494699\n",
      "Iteration 82, loss = 0.00467386\n",
      "Iteration 83, loss = 0.00455296\n",
      "Iteration 84, loss = 0.00441062\n",
      "Iteration 85, loss = 0.00431945\n",
      "Iteration 86, loss = 0.00414265\n",
      "Iteration 87, loss = 0.00413950\n",
      "Iteration 88, loss = 0.00413823\n",
      "Iteration 89, loss = 0.00399329\n",
      "Iteration 90, loss = 0.00389170\n",
      "Iteration 91, loss = 0.00394511\n",
      "Iteration 92, loss = 0.00519472\n",
      "Iteration 93, loss = 0.00495914\n",
      "Iteration 94, loss = 0.00442616\n",
      "Iteration 95, loss = 0.00428205\n",
      "Iteration 96, loss = 0.00373614\n",
      "Iteration 97, loss = 0.00375434\n",
      "Iteration 98, loss = 0.00360798\n",
      "Iteration 99, loss = 0.00374644\n",
      "Iteration 100, loss = 0.00359414\n",
      "Iteration 101, loss = 0.00343335\n",
      "Iteration 102, loss = 0.00353867\n",
      "Iteration 103, loss = 0.00345525\n",
      "Iteration 104, loss = 0.00322986\n",
      "Iteration 105, loss = 0.00318809\n",
      "Iteration 106, loss = 0.00318988\n",
      "Iteration 107, loss = 0.00330423\n",
      "Iteration 108, loss = 0.00312316\n",
      "Iteration 109, loss = 0.00311787\n",
      "Iteration 110, loss = 0.00310265\n",
      "Iteration 111, loss = 0.00320232\n",
      "Iteration 112, loss = 0.00306423\n",
      "Iteration 113, loss = 0.00290302\n",
      "Iteration 114, loss = 0.00300854\n",
      "Iteration 115, loss = 0.00289197\n",
      "Iteration 116, loss = 0.00292831\n",
      "Iteration 117, loss = 0.00293691\n",
      "Iteration 118, loss = 0.00285366\n",
      "Iteration 119, loss = 0.00278871\n",
      "Iteration 120, loss = 0.00274834\n",
      "Iteration 121, loss = 0.00271409\n",
      "Iteration 122, loss = 0.00285793\n",
      "Iteration 123, loss = 0.00267491\n",
      "Iteration 124, loss = 0.00272161\n",
      "Training loss did not improve more than tol=0.000100 for 10 consecutive epochs. Stopping.\n"
     ]
    }
   ],
   "source": [
    "# MLPRegressor supports multi-output\n",
    "from sklearn.neural_network import MLPRegressor\n",
    "ann = MLPRegressor(verbose=1)\n",
    "# 10 percent of powerflow data\n",
    "ann.fit(X_train, y_train)\n",
    "# 90 percent of powerflow data\n",
    "y_predict = ann.predict(X_test)\n",
    "# predicted output is scaled, so we have to inverse transform it to compare it with actual results\n",
    "y_predict = scaler.inverse_transform(y_predict)"
   ]
  },
  {
   "cell_type": "code",
   "execution_count": 15,
   "metadata": {},
   "outputs": [
    {
     "data": {
      "image/png": "[encoded data removed]",
      "text/plain": [
       "<Figure size 432x288 with 1 Axes>"
      ]
     },
     "metadata": {
      "needs_background": "light"
     },
     "output_type": "display_data"
    }
   ],
   "source": [
    "import matplotlib.pyplot as plt\n",
    "# we look at first 96 timestamps for line 53\n",
    "# line 53 because, we cheated and looked up the line with highest loading\n",
    "# plt.plot(y_test[:96, 53], alpha=.5, linestyle=\"--\", label=\"correct line loading values\")\n",
    "# plt.plot(y_predict[:96, 53], alpha=.5, linestyle=\"-\", label=\"predicted line loading values\")\n",
    "plt.plot(y_test[:96, 53], alpha=.5, linestyle=\"--\", label=\"correct line loading values\")\n",
    "plt.plot(y_predict[:96, 53], alpha=.5, linestyle=\"-\", label=\"predicted line loading values\")\n",
    "plt.legend()\n",
    "plt.show()"
   ]
  },
  {
   "cell_type": "code",
   "execution_count": 16,
   "metadata": {},
   "outputs": [
    {
     "name": "stdout",
     "output_type": "stream",
     "text": [
      "the error is only 0.10%\n"
     ]
    }
   ],
   "source": [
    "# Quantify error\n",
    "from sklearn.metrics import mean_squared_error\n",
    "mse = mean_squared_error(y_test, y_predict)\n",
    "print(f\"the error is only {mse:.2f}%\")"
   ]
  },
  {
   "cell_type": "code",
   "execution_count": 17,
   "metadata": {},
   "outputs": [
    {
     "name": "stdout",
     "output_type": "stream",
     "text": [
      "ANN time: 0.17\n"
     ]
    }
   ],
   "source": [
    "# Check prediction time for nearly 35000 timestamps\n",
    "from time import time\n",
    "t0 = time()\n",
    "y_predict = ann.predict(X_test)\n",
    "t1 = time() - t0\n",
    "print(f\"ANN time: {t1:.2f}\")"
   ]
  },
  {
   "cell_type": "markdown",
   "metadata": {},
   "source": [
    "> It was a very simple example because we didn't optimize hyper-parameters. We just trained on the load, sgen values and line loading predictions. This can ofcourse be further optimized but this is nice little example to demonstrate how **Python** and **pandapower** work great together."
   ]
  },
  {
   "cell_type": "markdown",
   "metadata": {},
   "source": [
    "---"
   ]
  }
 ],
 "metadata": {
  "interpreter": {
   "hash": "f9525bb2c7787f33b1425ed45de2f882d9d84bb3f853826084c6bae329d573d5"
  },
  "kernelspec": {
   "display_name": "Python 3",
   "language": "python",
   "name": "python3"
  },
  "language_info": {
   "codemirror_mode": {
    "name": "ipython",
    "version": 3
   },
   "file_extension": ".py",
   "mimetype": "text/x-python",
   "name": "python",
   "nbconvert_exporter": "python",
   "pygments_lexer": "ipython3",
   "version": "3.8.11"
  }
 },
 "nbformat": 4,
 "nbformat_minor": 2
}
