{
 "cells": [
  {
   "cell_type": "markdown",
   "source": [
    "# Introduction"
   ],
   "metadata": {}
  },
  {
   "cell_type": "markdown",
   "source": [
    "---"
   ],
   "metadata": {}
  },
  {
   "cell_type": "markdown",
   "source": [
    "## Introduction\r\n",
    "\r\n",
    "<a href=\"http://www.youtube.com/watch?feature=player_embedded&v=Ug7QWlRSrlA\" target=\"_blank\">\r\n",
    "    <img \r\n",
    "        src=\"http://img.youtube.com/vi/Ug7QWlRSrlA/0.jpg\" \r\n",
    "        alt=\"Introduction Youtube Video\" width=\"240\" height=\"180\" border=\"10\" \r\n",
    "    />\r\n",
    "</a>"
   ],
   "metadata": {}
  },
  {
   "cell_type": "markdown",
   "source": [
    "---"
   ],
   "metadata": {}
  },
  {
   "cell_type": "markdown",
   "source": [
    "## Motivation\r\n",
    "\r\n",
    "<a href=\"http://www.youtube.com/watch?feature=player_embedded&v=M6jukZyXp7U\" target=\"_blank\">\r\n",
    "    <img \r\n",
    "        src=\"http://img.youtube.com/vi/M6jukZyXp7U/0.jpg\" \r\n",
    "        alt=\"Motivation Youtube Video\" width=\"240\" height=\"180\" border=\"10\" \r\n",
    "    />\r\n",
    "</a>\r\n"
   ],
   "metadata": {}
  },
  {
   "cell_type": "markdown",
   "source": [
    "---"
   ],
   "metadata": {}
  },
  {
   "cell_type": "markdown",
   "source": [
    "## Installation\r\n",
    "\r\n",
    "<a href=\"http://www.youtube.com/watch?feature=player_embedded&v=Y6YXD9bEzRc\" target=\"_blank\">\r\n",
    "    <img \r\n",
    "        src=\"http://img.youtube.com/vi/Y6YXD9bEzRc/0.jpg\" \r\n",
    "        alt=\"Installation Youtube Video\" width=\"240\" height=\"180\" border=\"10\" \r\n",
    "    />\r\n",
    "</a>"
   ],
   "metadata": {}
  },
  {
   "cell_type": "markdown",
   "source": [
    "1. Install pandapower through pip using: `pip install pandapower`\r\n",
    "\r\n",
    "1. Test installation"
   ],
   "metadata": {}
  },
  {
   "cell_type": "code",
   "execution_count": 17,
   "source": [
    "import pandapower.test\r\n",
    "pandapower.test.run_all_tests()"
   ],
   "outputs": [
    {
     "output_type": "stream",
     "name": "stdout",
     "text": [
      "============================= test session starts =============================\n",
      "platform win32 -- Python 3.8.8, pytest-6.2.4, py-1.10.0, pluggy-0.13.1\n",
      "rootdir: c:\\Users\\junai\\Documents\\Workspaces\\Jupyter_Notebook\\pandapower-youtube\n",
      "No module named 'julia'\n",
      "No module named 'julia'\n",
      "No module named 'julia'\n",
      "collected 602 items\n",
      "\n",
      "venv\\Lib\\site-packages\\pandapower\\test\\api\\test_auxiliary.py ........\n",
      "venv\\Lib\\site-packages\\pandapower\\test\\api\\test_convert_format.py .......\n",
      "\n",
      "============================== warnings summary ===============================\n",
      "venv\\Lib\\site-packages\\matplotlib_inline\\config.py:66\n",
      "  C:\\Users\\junai\\Documents\\Workspaces\\Jupyter_Notebook\\pandapower-youtube\\venv\\Lib\\site-packages\\matplotlib_inline\\config.py:66: DeprecationWarning: InlineBackend._figure_formats_changed is deprecated in traitlets 4.1: use @observe and @unobserve instead.\n",
      "    def _figure_formats_changed(self, name, old, new):\n",
      "\n",
      "venv\\lib\\site-packages\\pandapower\\test\\api\\test_convert_format.py:18\n",
      "  c:\\Users\\junai\\Documents\\Workspaces\\Jupyter_Notebook\\pandapower-youtube\\venv\\lib\\site-packages\\pandapower\\test\\api\\test_convert_format.py:18: PytestUnknownMarkWarning: Unknown pytest.mark.slow - is this a typo?  You can register custom marks to avoid this warning - for details, see https://docs.pytest.org/en/stable/mark.html\n",
      "    @pytest.mark.slow\n",
      "\n",
      "venv\\lib\\site-packages\\pandapower\\test\\converter\\test_from_ppc.py:76\n",
      "  c:\\Users\\junai\\Documents\\Workspaces\\Jupyter_Notebook\\pandapower-youtube\\venv\\lib\\site-packages\\pandapower\\test\\converter\\test_from_ppc.py:76: PytestUnknownMarkWarning: Unknown pytest.mark.slow - is this a typo?  You can register custom marks to avoid this warning - for details, see https://docs.pytest.org/en/stable/mark.html\n",
      "    @pytest.mark.slow\n",
      "\n",
      "venv\\lib\\site-packages\\pandapower\\test\\loadflow\\test_runpp.py:565\n",
      "  c:\\Users\\junai\\Documents\\Workspaces\\Jupyter_Notebook\\pandapower-youtube\\venv\\lib\\site-packages\\pandapower\\test\\loadflow\\test_runpp.py:565: PytestUnknownMarkWarning: Unknown pytest.mark.slow - is this a typo?  You can register custom marks to avoid this warning - for details, see https://docs.pytest.org/en/stable/mark.html\n",
      "    @pytest.mark.slow\n",
      "\n",
      "venv\\lib\\site-packages\\pandapower\\test\\networks\\test_dickert_lv_networks.py:12\n",
      "  c:\\Users\\junai\\Documents\\Workspaces\\Jupyter_Notebook\\pandapower-youtube\\venv\\lib\\site-packages\\pandapower\\test\\networks\\test_dickert_lv_networks.py:12: PytestUnknownMarkWarning: Unknown pytest.mark.slow - is this a typo?  You can register custom marks to avoid this warning - for details, see https://docs.pytest.org/en/stable/mark.html\n",
      "    @pytest.mark.slow\n",
      "\n",
      "venv\\lib\\site-packages\\pandapower\\test\\networks\\test_kerber_networks.py:69\n",
      "  c:\\Users\\junai\\Documents\\Workspaces\\Jupyter_Notebook\\pandapower-youtube\\venv\\lib\\site-packages\\pandapower\\test\\networks\\test_kerber_networks.py:69: PytestUnknownMarkWarning: Unknown pytest.mark.slow - is this a typo?  You can register custom marks to avoid this warning - for details, see https://docs.pytest.org/en/stable/mark.html\n",
      "    @pytest.mark.slow\n",
      "\n",
      "venv\\lib\\site-packages\\pandapower\\test\\networks\\test_kerber_networks.py:82\n",
      "  c:\\Users\\junai\\Documents\\Workspaces\\Jupyter_Notebook\\pandapower-youtube\\venv\\lib\\site-packages\\pandapower\\test\\networks\\test_kerber_networks.py:82: PytestUnknownMarkWarning: Unknown pytest.mark.slow - is this a typo?  You can register custom marks to avoid this warning - for details, see https://docs.pytest.org/en/stable/mark.html\n",
      "    @pytest.mark.slow\n",
      "\n",
      "venv\\lib\\site-packages\\pandapower\\test\\networks\\test_kerber_networks.py:95\n",
      "  c:\\Users\\junai\\Documents\\Workspaces\\Jupyter_Notebook\\pandapower-youtube\\venv\\lib\\site-packages\\pandapower\\test\\networks\\test_kerber_networks.py:95: PytestUnknownMarkWarning: Unknown pytest.mark.slow - is this a typo?  You can register custom marks to avoid this warning - for details, see https://docs.pytest.org/en/stable/mark.html\n",
      "    @pytest.mark.slow\n",
      "\n",
      "venv\\lib\\site-packages\\pandapower\\test\\networks\\test_kerber_networks.py:108\n",
      "  c:\\Users\\junai\\Documents\\Workspaces\\Jupyter_Notebook\\pandapower-youtube\\venv\\lib\\site-packages\\pandapower\\test\\networks\\test_kerber_networks.py:108: PytestUnknownMarkWarning: Unknown pytest.mark.slow - is this a typo?  You can register custom marks to avoid this warning - for details, see https://docs.pytest.org/en/stable/mark.html\n",
      "    @pytest.mark.slow\n",
      "\n",
      "venv\\lib\\site-packages\\pandapower\\test\\networks\\test_kerber_networks.py:121\n",
      "  c:\\Users\\junai\\Documents\\Workspaces\\Jupyter_Notebook\\pandapower-youtube\\venv\\lib\\site-packages\\pandapower\\test\\networks\\test_kerber_networks.py:121: PytestUnknownMarkWarning: Unknown pytest.mark.slow - is this a typo?  You can register custom marks to avoid this warning - for details, see https://docs.pytest.org/en/stable/mark.html\n",
      "    @pytest.mark.slow\n",
      "\n",
      "venv\\lib\\site-packages\\pandapower\\test\\networks\\test_kerber_networks.py:134\n",
      "  c:\\Users\\junai\\Documents\\Workspaces\\Jupyter_Notebook\\pandapower-youtube\\venv\\lib\\site-packages\\pandapower\\test\\networks\\test_kerber_networks.py:134: PytestUnknownMarkWarning: Unknown pytest.mark.slow - is this a typo?  You can register custom marks to avoid this warning - for details, see https://docs.pytest.org/en/stable/mark.html\n",
      "    @pytest.mark.slow\n",
      "\n",
      "venv\\lib\\site-packages\\pandapower\\test\\networks\\test_kerber_networks.py:147\n",
      "  c:\\Users\\junai\\Documents\\Workspaces\\Jupyter_Notebook\\pandapower-youtube\\venv\\lib\\site-packages\\pandapower\\test\\networks\\test_kerber_networks.py:147: PytestUnknownMarkWarning: Unknown pytest.mark.slow - is this a typo?  You can register custom marks to avoid this warning - for details, see https://docs.pytest.org/en/stable/mark.html\n",
      "    @pytest.mark.slow\n",
      "\n",
      "venv\\lib\\site-packages\\pandapower\\test\\opf\\test_TNEP.py:46\n",
      "  c:\\Users\\junai\\Documents\\Workspaces\\Jupyter_Notebook\\pandapower-youtube\\venv\\lib\\site-packages\\pandapower\\test\\opf\\test_TNEP.py:46: PytestUnknownMarkWarning: Unknown pytest.mark.slow - is this a typo?  You can register custom marks to avoid this warning - for details, see https://docs.pytest.org/en/stable/mark.html\n",
      "    @pytest.mark.slow\n",
      "\n",
      "venv\\lib\\site-packages\\pandapower\\test\\opf\\test_TNEP.py:103\n",
      "  c:\\Users\\junai\\Documents\\Workspaces\\Jupyter_Notebook\\pandapower-youtube\\venv\\lib\\site-packages\\pandapower\\test\\opf\\test_TNEP.py:103: PytestUnknownMarkWarning: Unknown pytest.mark.slow - is this a typo?  You can register custom marks to avoid this warning - for details, see https://docs.pytest.org/en/stable/mark.html\n",
      "    @pytest.mark.slow\n",
      "\n",
      "venv\\lib\\site-packages\\pandapower\\test\\opf\\test_TNEP.py:136\n",
      "  c:\\Users\\junai\\Documents\\Workspaces\\Jupyter_Notebook\\pandapower-youtube\\venv\\lib\\site-packages\\pandapower\\test\\opf\\test_TNEP.py:136: PytestUnknownMarkWarning: Unknown pytest.mark.slow - is this a typo?  You can register custom marks to avoid this warning - for details, see https://docs.pytest.org/en/stable/mark.html\n",
      "    @pytest.mark.slow\n",
      "\n",
      "venv\\lib\\site-packages\\pandapower\\test\\opf\\test_powermodels.py:80\n",
      "  c:\\Users\\junai\\Documents\\Workspaces\\Jupyter_Notebook\\pandapower-youtube\\venv\\lib\\site-packages\\pandapower\\test\\opf\\test_powermodels.py:80: PytestUnknownMarkWarning: Unknown pytest.mark.slow - is this a typo?  You can register custom marks to avoid this warning - for details, see https://docs.pytest.org/en/stable/mark.html\n",
      "    @pytest.mark.slow\n",
      "\n",
      "venv\\lib\\site-packages\\pandapower\\test\\opf\\test_powermodels.py:124\n",
      "  c:\\Users\\junai\\Documents\\Workspaces\\Jupyter_Notebook\\pandapower-youtube\\venv\\lib\\site-packages\\pandapower\\test\\opf\\test_powermodels.py:124: PytestUnknownMarkWarning: Unknown pytest.mark.slow - is this a typo?  You can register custom marks to avoid this warning - for details, see https://docs.pytest.org/en/stable/mark.html\n",
      "    @pytest.mark.slow\n",
      "\n",
      "venv\\lib\\site-packages\\pandapower\\test\\opf\\test_powermodels.py:184\n",
      "  c:\\Users\\junai\\Documents\\Workspaces\\Jupyter_Notebook\\pandapower-youtube\\venv\\lib\\site-packages\\pandapower\\test\\opf\\test_powermodels.py:184: PytestUnknownMarkWarning: Unknown pytest.mark.slow - is this a typo?  You can register custom marks to avoid this warning - for details, see https://docs.pytest.org/en/stable/mark.html\n",
      "    @pytest.mark.slow\n",
      "\n",
      "venv\\lib\\site-packages\\pandapower\\test\\opf\\test_powermodels.py:250\n",
      "  c:\\Users\\junai\\Documents\\Workspaces\\Jupyter_Notebook\\pandapower-youtube\\venv\\lib\\site-packages\\pandapower\\test\\opf\\test_powermodels.py:250: PytestUnknownMarkWarning: Unknown pytest.mark.slow - is this a typo?  You can register custom marks to avoid this warning - for details, see https://docs.pytest.org/en/stable/mark.html\n",
      "    @pytest.mark.slow\n",
      "\n",
      "venv\\lib\\site-packages\\pandapower\\test\\opf\\test_powermodels.py:280\n",
      "  c:\\Users\\junai\\Documents\\Workspaces\\Jupyter_Notebook\\pandapower-youtube\\venv\\lib\\site-packages\\pandapower\\test\\opf\\test_powermodels.py:280: PytestUnknownMarkWarning: Unknown pytest.mark.slow - is this a typo?  You can register custom marks to avoid this warning - for details, see https://docs.pytest.org/en/stable/mark.html\n",
      "    @pytest.mark.slow\n",
      "\n",
      "venv\\lib\\site-packages\\pandapower\\test\\opf\\test_powermodels.py:375\n",
      "  c:\\Users\\junai\\Documents\\Workspaces\\Jupyter_Notebook\\pandapower-youtube\\venv\\lib\\site-packages\\pandapower\\test\\opf\\test_powermodels.py:375: PytestUnknownMarkWarning: Unknown pytest.mark.slow - is this a typo?  You can register custom marks to avoid this warning - for details, see https://docs.pytest.org/en/stable/mark.html\n",
      "    @pytest.mark.slow\n",
      "\n",
      "venv\\lib\\site-packages\\pandapower\\test\\opf\\test_powermodels.py:396\n",
      "  c:\\Users\\junai\\Documents\\Workspaces\\Jupyter_Notebook\\pandapower-youtube\\venv\\lib\\site-packages\\pandapower\\test\\opf\\test_powermodels.py:396: PytestUnknownMarkWarning: Unknown pytest.mark.slow - is this a typo?  You can register custom marks to avoid this warning - for details, see https://docs.pytest.org/en/stable/mark.html\n",
      "    @pytest.mark.slow\n",
      "\n",
      "venv\\lib\\site-packages\\pandapower\\test\\opf\\test_powermodels.py:412\n",
      "  c:\\Users\\junai\\Documents\\Workspaces\\Jupyter_Notebook\\pandapower-youtube\\venv\\lib\\site-packages\\pandapower\\test\\opf\\test_powermodels.py:412: PytestUnknownMarkWarning: Unknown pytest.mark.slow - is this a typo?  You can register custom marks to avoid this warning - for details, see https://docs.pytest.org/en/stable/mark.html\n",
      "    @pytest.mark.slow\n",
      "\n",
      "venv\\lib\\site-packages\\pandapower\\test\\opf\\test_pp_vs_pm.py:70\n",
      "  c:\\Users\\junai\\Documents\\Workspaces\\Jupyter_Notebook\\pandapower-youtube\\venv\\lib\\site-packages\\pandapower\\test\\opf\\test_pp_vs_pm.py:70: PytestUnknownMarkWarning: Unknown pytest.mark.slow - is this a typo?  You can register custom marks to avoid this warning - for details, see https://docs.pytest.org/en/stable/mark.html\n",
      "    @pytest.mark.slow\n",
      "\n",
      "venv\\lib\\site-packages\\pandapower\\test\\opf\\test_pp_vs_pm.py:148\n",
      "  c:\\Users\\junai\\Documents\\Workspaces\\Jupyter_Notebook\\pandapower-youtube\\venv\\lib\\site-packages\\pandapower\\test\\opf\\test_pp_vs_pm.py:148: PytestUnknownMarkWarning: Unknown pytest.mark.slow - is this a typo?  You can register custom marks to avoid this warning - for details, see https://docs.pytest.org/en/stable/mark.html\n",
      "    @pytest.mark.slow\n",
      "\n",
      "venv/Lib/site-packages/pandapower/test/api/test_convert_format.py::test_convert_format[1.2.0]\n",
      "venv/Lib/site-packages/pandapower/test/api/test_convert_format.py::test_convert_format[1.2.2]\n",
      "venv/Lib/site-packages/pandapower/test/api/test_convert_format.py::test_convert_format[1.3.0]\n",
      "venv/Lib/site-packages/pandapower/test/api/test_convert_format.py::test_convert_format[1.3.1]\n",
      "venv/Lib/site-packages/pandapower/test/api/test_convert_format.py::test_convert_format[1.4.0]\n",
      "venv/Lib/site-packages/pandapower/test/api/test_convert_format.py::test_convert_format[1.4.1]\n",
      "venv/Lib/site-packages/pandapower/test/api/test_convert_format.py::test_convert_format[1.4.2]\n",
      "venv/Lib/site-packages/pandapower/test/api/test_convert_format.py::test_convert_format[1.4.3]\n",
      "  c:\\Users\\junai\\Documents\\Workspaces\\Jupyter_Notebook\\pandapower-youtube\\venv\\lib\\site-packages\\pandapower\\file_io.py:279: DeprecationWarning: This net is saved in older format, which will not be supported in future.\n",
      "  Please resave your grid using the current pandapower version.\n",
      "    warn(\"This net is saved in older format, which will not be supported in future.\\r\\n\"\n",
      "\n",
      "venv/Lib/site-packages/pandapower/test/api/test_convert_format.py::test_convert_format[1.2.0]\n",
      "venv/Lib/site-packages/pandapower/test/api/test_convert_format.py::test_convert_format[1.2.2]\n",
      "venv/Lib/site-packages/pandapower/test/api/test_convert_format.py::test_convert_format[1.3.0]\n",
      "venv/Lib/site-packages/pandapower/test/api/test_convert_format.py::test_convert_format[1.3.1]\n",
      "venv/Lib/site-packages/pandapower/test/api/test_convert_format.py::test_convert_format[1.4.0]\n",
      "venv/Lib/site-packages/pandapower/test/api/test_convert_format.py::test_convert_format[1.4.1]\n",
      "venv/Lib/site-packages/pandapower/test/api/test_convert_format.py::test_convert_format[1.4.2]\n",
      "  c:\\Users\\junai\\Documents\\Workspaces\\Jupyter_Notebook\\pandapower-youtube\\venv\\lib\\site-packages\\pandapower\\results_bus.py:295: DeprecationWarning: `np.float` is a deprecated alias for the builtin `float`. To silence this warning, use `float` by itself. Doing this will not modify any behavior and is safe. If you specifically wanted the numpy scalar type, use `np.float64` here.\n",
      "  Deprecated in NumPy 1.20; for more details and guidance: https://numpy.org/devdocs/release/1.20.0-notes.html#deprecations\n",
      "    bus_pq = np.zeros(shape=(len(net[\"bus\"].index), 2), dtype=np.float)\n",
      "\n",
      "-- Docs: https://docs.pytest.org/en/stable/warnings.html\n",
      "!!!!!!!!!!!!!!!!!!!!!!!!!!!!!! KeyboardInterrupt !!!!!!!!!!!!!!!!!!!!!!!!!!!!!!\n",
      "c:\\Users\\junai\\Documents\\Workspaces\\Jupyter_Notebook\\pandapower-youtube\\venv\\lib\\site-packages\\pandas\\core\\internals\\managers.py:1955: KeyboardInterrupt\n",
      "(to show a full traceback on KeyboardInterrupt use --full-trace)\n",
      "====================== 15 passed, 40 warnings in 12.24s =======================\n"
     ]
    }
   ],
   "metadata": {
    "jupyter": {
     "outputs_hidden": true
    },
    "tags": []
   }
  },
  {
   "cell_type": "markdown",
   "source": [
    "---"
   ],
   "metadata": {}
  }
 ],
 "metadata": {
  "interpreter": {
   "hash": "f9525bb2c7787f33b1425ed45de2f882d9d84bb3f853826084c6bae329d573d5"
  },
  "kernelspec": {
   "name": "python3",
   "display_name": "Python 3.8.8 64-bit ('venv': venv)"
  },
  "language_info": {
   "codemirror_mode": {
    "name": "ipython",
    "version": 3
   },
   "file_extension": ".py",
   "mimetype": "text/x-python",
   "name": "python",
   "nbconvert_exporter": "python",
   "pygments_lexer": "ipython3",
   "version": "3.8.8"
  }
 },
 "nbformat": 4,
 "nbformat_minor": 4
}