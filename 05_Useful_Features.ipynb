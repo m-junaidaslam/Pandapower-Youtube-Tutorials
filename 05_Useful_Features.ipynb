{
 "cells": [
  {
   "cell_type": "markdown",
   "source": [
    "# Useful Features"
   ],
   "metadata": {}
  },
  {
   "cell_type": "markdown",
   "source": [
    "---"
   ],
   "metadata": {}
  },
  {
   "cell_type": "markdown",
   "source": [
    "## Toolbox Functions [Code](https://github.com/FlorianShepherd/pandapower-youtube/blob/master/scripts/toolbox.py)\r\n",
    "\r\n",
    "> Toolbox is like swiss knife of pandapower and can be used for different thingg. e.g. merge two grids, results are equal etc.\r\n",
    "\r\n",
    "<a href=\"http://www.youtube.com/watch?feature=player_embedded&v=O74yw1FmmsM\" target=\"_blank\">\r\n",
    "    <img \r\n",
    "        src=\"http://img.youtube.com/vi/O74yw1FmmsM/0.jpg\" \r\n",
    "        alt=\"Easy plotting Youtube Video\" width=\"240\" height=\"180\" border=\"10\" \r\n",
    "    />\r\n",
    "</a>"
   ],
   "metadata": {}
  },
  {
   "cell_type": "code",
   "execution_count": 7,
   "source": [
    "# imports\r\n",
    "import pandapower.toolbox as tb\r\n",
    "import pandapower.networks as nw\r\n",
    "import pandapower as pp"
   ],
   "outputs": [],
   "metadata": {}
  },
  {
   "cell_type": "code",
   "execution_count": 11,
   "source": [
    "net = nw.create_cigre_network_mv()\r\n",
    "pp.runpp(net)\r\n",
    "# print some power flow information\r\n",
    "tb.lf_info(net)"
   ],
   "outputs": [],
   "metadata": {}
  },
  {
   "cell_type": "code",
   "execution_count": 16,
   "source": [
    "net2 = nw.create_cigre_network_mv()\r\n",
    "net2.load.drop(index=0, inplace=True)\r\n",
    "# check if two nets are identical. You can also only check the results\r\n",
    "tb.nets_equal(net, net2)"
   ],
   "outputs": [
    {
     "output_type": "execute_result",
     "data": {
      "text/plain": [
       "False"
      ]
     },
     "metadata": {},
     "execution_count": 16
    }
   ],
   "metadata": {}
  },
  {
   "cell_type": "code",
   "execution_count": 17,
   "source": [
    "# Check if only results are equal\r\n",
    "net = nw.create_cigre_network_mv()\r\n",
    "net2 = nw.create_cigre_network_mv()\r\n",
    "net2.load.drop(index=0, inplace=True)\r\n",
    "pp.runpp(net)\r\n",
    "pp.runpp(net2)\r\n",
    "\r\n",
    "tb.nets_equal(net, net2, check_only_results=True)"
   ],
   "outputs": [
    {
     "output_type": "stream",
     "name": "stderr",
     "text": [
      "Networks do not match in DataFrame(s): res_trafo, res_bus, res_load, res_ext_grid, res_line\n"
     ]
    },
    {
     "output_type": "execute_result",
     "data": {
      "text/plain": [
       "False"
      ]
     },
     "metadata": {},
     "execution_count": 17
    }
   ],
   "metadata": {}
  },
  {
   "cell_type": "code",
   "execution_count": 13,
   "source": [
    "# merge two power systems\r\n",
    "net3 = tb.merge_nets(net, net2)\r\n",
    "# drop some buses, drops also elements of those buses e.g drops also lines and loades connected to that bus\r\n",
    "tb.drop_buses(net, buses=[5])\r\n",
    "# creates a continuous index in net.bus starting at 10\r\n",
    "tb.create_continuous_bus_index(net, start=10)"
   ],
   "outputs": [
    {
     "output_type": "execute_result",
     "data": {
      "text/plain": [
       "{0: 10,\n",
       " 1: 11,\n",
       " 2: 12,\n",
       " 3: 13,\n",
       " 4: 14,\n",
       " 6: 15,\n",
       " 7: 16,\n",
       " 8: 17,\n",
       " 9: 18,\n",
       " 10: 19,\n",
       " 11: 20,\n",
       " 12: 21,\n",
       " 13: 22,\n",
       " 14: 23}"
      ]
     },
     "metadata": {},
     "execution_count": 13
    }
   ],
   "metadata": {}
  },
  {
   "cell_type": "code",
   "execution_count": 14,
   "source": [
    "# get all line elements connected to buses\r\n",
    "els = tb.get_connected_elements(net, \"line\", buses=[11])\r\n",
    "print(els)\r\n",
    "print(net.line.loc[els])"
   ],
   "outputs": [
    {
     "output_type": "stream",
     "name": "stdout",
     "text": [
      "{0}\n",
      "       name        std_type  from_bus  to_bus  ...   df  parallel  type  in_service\n",
      "0  Line 1-2  CABLE_CIGRE_MV        11      12  ...  1.0         1    cs        True\n",
      "\n",
      "[1 rows x 14 columns]\n"
     ]
    }
   ],
   "metadata": {}
  },
  {
   "cell_type": "markdown",
   "source": [
    "---"
   ],
   "metadata": {}
  },
  {
   "cell_type": "markdown",
   "source": [
    "## Diagnostic Tool [Code](https://github.com/FlorianShepherd/pandapower-youtube/blob/master/scripts/pp_diagnostic.py) | [Documentation](https://github.com/e2nIEE/pandapower/blob/master/tutorials/diagnostic.ipynb)\r\n",
    "\r\n",
    "> A power flow calculation on a pandapower network can fail to converge (or fail to run at all) for a vast variety of reasons, which often makes debugging difficult, annoying and time consuming. To help with that, the diagnostic function automatically checks pandapower networks for the most common issues leading to errors. It provides logging output and diagnoses with a controllable level of detail.\r\n",
    "\r\n",
    "<a href=\"http://www.youtube.com/watch?feature=player_embedded&v=EA2pytl3MKg\" target=\"_blank\">\r\n",
    "    <img \r\n",
    "        src=\"http://img.youtube.com/vi/EA2pytl3MKg/0.jpg\" \r\n",
    "        alt=\"Easy plotting Youtube Video\" width=\"240\" height=\"180\" border=\"10\" \r\n",
    "    />\r\n",
    "</a>"
   ],
   "metadata": {}
  },
  {
   "cell_type": "code",
   "execution_count": 18,
   "source": [
    "import pandapower as pp\r\n",
    "import pandapower.plotting as plt"
   ],
   "outputs": [],
   "metadata": {}
  },
  {
   "cell_type": "code",
   "execution_count": 23,
   "source": [
    "# defines a function that creates an example network, which will be used a lot in this tutorial\r\n",
    "# run this code first in order for the examples to work\r\n",
    "\r\n",
    "def faulty_example_network():\r\n",
    "\r\n",
    "    net = pp.create_empty_network()\r\n",
    "\r\n",
    "    pp.create_bus(net, name = \"110 kV bar\", vn_kv = 110, type = 'b', in_service = 'True')\r\n",
    "    pp.create_bus(net, name = \"20 kV bar\", vn_kv = 20, type = 'b')\r\n",
    "    pp.create_bus(net, name = \"bus 2\", vn_kv = 30, type = 'b')\r\n",
    "    pp.create_bus(net, name = \"bus 3\", vn_kv = 20, type = 'b')\r\n",
    "    pp.create_bus(net, name = \"bus 4\", vn_kv = 20, type = 'b')\r\n",
    "    pp.create_bus(net, name = \"bus 5\", vn_kv = -20, type = 'b')\r\n",
    "    pp.create_bus(net, name = \"bus 6\", vn_kv = 20, type = 'b')\r\n",
    "    \r\n",
    "    pp.create_ext_grid(net, 0, vm_pu = 1)\r\n",
    "\r\n",
    "    pp.create_line(net, name = \"line 0\", from_bus = 1, to_bus = 2, length_km = 0, std_type = \"NAYY 4x150 SE\")\r\n",
    "    pp.create_line(net, name = \"line 1\", from_bus = 2, to_bus = 3, length_km = 1, std_type = \"NAYY 4x150 SE\")\r\n",
    "    pp.create_line(net, name = \"line 2\", from_bus = 3, to_bus = 4, length_km = 1, std_type = \"NAYY 4x150 SE\")\r\n",
    "    pp.create_line(net, name = \"line 3\", from_bus = 4, to_bus = 5, length_km = 1, std_type = \"NAYY 4x150 SE\")\r\n",
    "    pp.create_line(net, name = \"line 4\", from_bus = 5, to_bus = 6, length_km = 1, std_type = \"NAYY 4x150 SE\")\r\n",
    "    pp.create_line(net, name = \"line 5\", from_bus = 6, to_bus = 1, length_km = 1, std_type = \"NAYY 4x150 SE\")\r\n",
    "\r\n",
    "    pp.create_transformer_from_parameters(net, hv_bus = 1, lv_bus = 0, i0_percent= 0.038, pfe_kw = 11.6,\r\n",
    "                                          vkr_percent = 0.322, sn_mva = 40.0, vn_lv_kv = 22.0,\r\n",
    "                                          vn_hv_kv = 110.0, vk_percent = 17.8)\r\n",
    "\r\n",
    "    pp.create_load(net, 2, p_mw = -1, q_mvar = 0.200, name = \"load 0\")\r\n",
    "    pp.create_load(net, 3, p_mw = 1, q_mvar = 0.200, name = \"load 1\")\r\n",
    "    pp.create_load(net, 4, p_mw = 1, q_mvar = 0.200, name = \"load 2\")\r\n",
    "    pp.create_load(net, 5, p_mw = 1, q_mvar = 0.200, name = \"load 3\")\r\n",
    "    pp.create_load(net, 6, p_mw = 1, q_mvar = 0.200, name = \"load 4\")\r\n",
    "\r\n",
    "    pp.create_switch(net, bus = 1, element = 0, et = 'l')\r\n",
    "    pp.create_switch(net, bus = 2, element = 0, et = 'l')\r\n",
    "    pp.create_switch(net, bus = 2, element = 1, et = 'l')\r\n",
    "    pp.create_switch(net, bus = 3, element = 1, et = 'l')\r\n",
    "    pp.create_switch(net, bus = 3, element = 2, et = 'l')\r\n",
    "    pp.create_switch(net, bus = 4, element = 2, et = 'l')\r\n",
    "    pp.create_switch(net, bus = 4, element = 3, et = 'l', closed = False)\r\n",
    "    pp.create_switch(net, bus = 5, element = 3, et = 'l')\r\n",
    "    pp.create_switch(net, bus = 5, element = 4, et = 'l', closed = False)\r\n",
    "    pp.create_switch(net, bus = 6, element = 4, et = 'l', closed = False)\r\n",
    "    pp.create_switch(net, bus = 6, element = 5, et = 'l')\r\n",
    "    pp.create_switch(net, bus = 1, element = 5, et = 'l')\r\n",
    "    \r\n",
    "    return net"
   ],
   "outputs": [],
   "metadata": {}
  },
  {
   "cell_type": "code",
   "execution_count": 26,
   "source": [
    "def diag():\r\n",
    "    net = faulty_example_network()\r\n",
    "    # pp.runpp(net)\r\n",
    "    # plt.simple_plot(net, plot_line_switches=True)\r\n",
    "    pp.diagnostic(net)\r\n",
    "\r\n",
    "diag()"
   ],
   "outputs": [
    {
     "output_type": "stream",
     "name": "stderr",
     "text": [
      "\n",
      "\n",
      "_____________ PANDAPOWER DIAGNOSTIC TOOL _____________ \n",
      "\n",
      "\n",
      " --------\n",
      "\n",
      "Checking for elements without a connection to an external grid...\n",
      "\n",
      "Disconnected section found, consisting of the following elements:\n",
      "buses: [5]\n",
      "switches: [7, 8]\n",
      "lines: [3]\n",
      "loads: [3]\n",
      "\n",
      "SUMMARY: 5 disconnected element(s) found.\n",
      "\n",
      " --------\n",
      "\n",
      "Checking for connections of different voltage levels...\n",
      "\n",
      "line 0 connects bus 1: 20 kV bar (vn_kv = 20.0) and bus 2: bus 2 (vn_kv = 30.0)\n",
      "line 1 connects bus 2: bus 2 (vn_kv = 30.0) and bus 3: bus 3 (vn_kv = 20.0)\n",
      "line 3 connects bus 4: bus 4 (vn_kv = 20.0) and bus 5: bus 5 (vn_kv = -20.0)\n",
      "line 4 connects bus 5: bus 5 (vn_kv = -20.0) and bus 6: bus 6 (vn_kv = 20.0)\n",
      "\n",
      "SUMMARY: 4 element(s) that connect different voltage levels found.\n",
      "\n",
      " --------\n",
      "\n",
      "Checking for impedance values close to zero...\n",
      "\n",
      "line 0: r_ohm <= 0.001 or x_ohm <= 0.001\n",
      "Power flow still does not converge after replacing implausible elements with switches.\n",
      "\n",
      "SUMMARY: 1 element(s) with impedance values close to zero found.\n",
      "\n",
      " --------\n",
      "\n",
      "Checking for components with deviating nominal voltages...\n",
      "\n",
      "Trafo(s) [0]: hv and lv connectors seem to be swapped\n",
      "\n",
      "SUMMARY: 1 component(s) with deviating nominal voltages found\n",
      "\n",
      " --------\n",
      "\n",
      "Checking for invalid_values...\n",
      "\n",
      "bus:\n",
      "Invalid value found: 'bus 5' with attribute 'vn_kv' = -20.0 (data type: <class 'numpy.float64'>). Valid input needs to be >0.\n",
      "line:\n",
      "Invalid value found: 'line 0' with attribute 'length_km' = 0.0 (data type: <class 'numpy.float64'>). Valid input needs to be >0.\n",
      "\n",
      "SUMMARY: 2 invalid values found.\n",
      "\n",
      " --------\n",
      "\n",
      "Checking for overload...\n",
      "\n",
      "Overload check failed: Power flow still does not converge with load and generation scaled down to 0.1 percent.\n",
      "\n",
      " --------\n",
      "\n",
      "\n",
      " --------\n",
      "\n",
      "Checking switch configuration...\n",
      "\n",
      "Power flow still does not converge with all switches closed.\n",
      "\n",
      " --------\n",
      "\n",
      "\n",
      " --------\n",
      "\n",
      "Checking for usage of wrong reference system...\n",
      "\n",
      "Found load 0: 'load 0' with p_mw = -1.0. In load reference system p_mw should be positive.\n",
      "\n",
      "SUMMARY: Found 1 load(s) with negative p_mw. In load reference system, p_mw should be positive. If the intention was to model a constant generation, please use an sgen instead.\n",
      "\n",
      " --------\n",
      "\n",
      "\n",
      " --------\n",
      "\n",
      "numba_comparison failed due to the following error:\n",
      "Power Flow nr did not converge after 10 iterations!\n",
      "\n",
      " --------\n",
      "\n",
      "\n",
      " --------\n",
      "\n",
      "_____________ END OF PANDAPOWER DIAGNOSTIC _____________ \n"
     ]
    }
   ],
   "metadata": {}
  },
  {
   "cell_type": "markdown",
   "source": [
    "---"
   ],
   "metadata": {}
  },
  {
   "cell_type": "markdown",
   "source": [
    "## Read Your Data from Excel [Code](https://github.com/FlorianShepherd/pandapower-youtube/blob/master/scripts/read_data_excel.py) | [Documentation]()\r\n",
    "\r\n",
    "<a href=\"http://www.youtube.com/watch?feature=player_embedded&v=QeOrLzb9T8o\" target=\"_blank\">\r\n",
    "    <img \r\n",
    "        src=\"http://img.youtube.com/vi/QeOrLzb9T8o/0.jpg\" \r\n",
    "        alt=\"Easy plotting Youtube Video\" width=\"240\" height=\"180\" border=\"10\" \r\n",
    "    />\r\n",
    "</a>"
   ],
   "metadata": {}
  },
  {
   "cell_type": "code",
   "execution_count": 1,
   "source": [
    "import pandas as pd\r\n",
    "import pandapower as pp\r\n",
    "\r\n",
    "net = pp.create_empty_network()\r\n",
    "\r\n",
    "# For loading buses from excel\r\n",
    "df = pd.read_excel(\"./data_files/read_data_excel.xlsx\", sheet_name=\"bus\", index_col=0)\r\n",
    "for idx in df.index:\r\n",
    "    pp.create_bus(net, vn_kv=df.at[idx, \"vn_kv\"], )\r\n",
    "# print(net.bus)\r\n",
    "\r\n",
    "# for loading loads from excel\r\n",
    "df = pd.read_excel(\"./data_files/read_data_excel.xlsx\", sheet_name=\"load\", index_col=0)\r\n",
    "for idx in df.index:\r\n",
    "    pp.create_load(net, bus=df.at[idx, \"bus\"], p_mw=df.at[idx, \"p\"])\r\n",
    "# print(net.load)\r\n",
    "\r\n",
    "# for slack buses from excel\r\n",
    "df = pd.read_excel(\"./data_files/read_data_excel.xlsx\", sheet_name=\"slack\", index_col=0)\r\n",
    "for idx in df.index:\r\n",
    "    pp.create_ext_grid(net, bus=df.at[idx, \"bus\"], vm_pu=df.at[idx, \"vm_pu\"], \r\n",
    "                       va_degree=df.at[idx, \"va_degree\"])\r\n",
    "# print(net.ext_grid)\r\n",
    "\r\n",
    "# for line data from excel\r\n",
    "df = pd.read_excel(\"./data_files/read_data_excel.xlsx\", sheet_name=\"line\", index_col=0)\r\n",
    "for idx in df.index:\r\n",
    "    pp.create_line_from_parameters(net, *df.loc[idx, :])\r\n",
    "# print(net.line)\r\n",
    "\r\n",
    "# for transformer from excel\r\n",
    "df = pd.read_excel(\"./data_files/read_data_excel.xlsx\", sheet_name=\"trafo\", index_col=0)\r\n",
    "for idx in df.index:\r\n",
    "    pp.create_transformer(net, hv_bus=df.at[idx, \"hv_bus\"], lv_bus=df.at[idx, \"lv_bus\"], \r\n",
    "                          std_type=df.at[idx, \"std_type\"])\r\n",
    "\r\n",
    "pp.runpp(net)\r\n",
    "print(net.res_bus)"
   ],
   "outputs": [
    {
     "output_type": "stream",
     "name": "stdout",
     "text": [
      "      vm_pu  va_degree     p_mw    q_mvar\n",
      "0  1.000000   0.000000 -0.07507 -0.002683\n",
      "1  0.996066  -0.649068  0.00000  0.000000\n",
      "2  0.846274  -1.707654  0.03000  0.000000\n",
      "3  0.767827  -2.394062  0.03000  0.000000\n"
     ]
    },
    {
     "output_type": "stream",
     "name": "stderr",
     "text": [
      "c:\\Users\\junai\\Documents\\Workspaces\\Jupyter_Notebook\\pandapower-youtube\\venv\\lib\\site-packages\\pandapower\\results_branch.py:141: RuntimeWarning: divide by zero encountered in true_divide\n",
      "  res_line_df[\"loading_percent\"].values[:] = i_ka / i_max * 100\n"
     ]
    }
   ],
   "metadata": {}
  },
  {
   "cell_type": "markdown",
   "source": [
    "---"
   ],
   "metadata": {}
  }
 ],
 "metadata": {
  "orig_nbformat": 4,
  "language_info": {
   "name": "python",
   "version": "3.8.8",
   "mimetype": "text/x-python",
   "codemirror_mode": {
    "name": "ipython",
    "version": 3
   },
   "pygments_lexer": "ipython3",
   "nbconvert_exporter": "python",
   "file_extension": ".py"
  },
  "kernelspec": {
   "name": "python3",
   "display_name": "Python 3.8.8 64-bit ('venv': venv)"
  },
  "interpreter": {
   "hash": "f9525bb2c7787f33b1425ed45de2f882d9d84bb3f853826084c6bae329d573d5"
  }
 },
 "nbformat": 4,
 "nbformat_minor": 2
}